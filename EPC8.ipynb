{
  "nbformat": 4,
  "nbformat_minor": 0,
  "metadata": {
    "colab": {
      "provenance": [],
      "gpuType": "T4",
      "toc_visible": true,
      "mount_file_id": "1TZcOPssMjo7E6qBOm6N5R3gnphuOuE3w",
      "authorship_tag": "ABX9TyMPGjYKhyZ3BIfxPmCaFCCr",
      "include_colab_link": true
    },
    "kernelspec": {
      "name": "python3",
      "display_name": "Python 3"
    },
    "language_info": {
      "name": "python"
    },
    "gpuClass": "standard"
  },
  "cells": [
    {
      "cell_type": "markdown",
      "metadata": {
        "id": "view-in-github",
        "colab_type": "text"
      },
      "source": [
        "<a href=\"https://colab.research.google.com/github/HugoSilvaRodrigues/AED/blob/main/EPC8.ipynb\" target=\"_parent\"><img src=\"https://colab.research.google.com/assets/colab-badge.svg\" alt=\"Open In Colab\"/></a>"
      ]
    },
    {
      "cell_type": "code",
      "source": [
        "import numpy as np\n",
        "import pandas as pd\n",
        "\n",
        "# Imports para visualização de dados\n",
        "import matplotlib.pyplot as plt\n",
        "import seaborn as sns\n",
        "\n",
        "# Imports para modelagem estatística\n",
        "import pylab\n",
        "import scipy\n",
        "import scipy.stats as stats\n",
        "import statsmodels.api as sm\n",
        "import statsmodels.regression.linear_model as smf\n",
        "import statsmodels.stats.api as sms\n",
        "from scipy.stats import pearsonr\n",
        "from statsmodels.stats.outliers_influence import variance_inflation_factor\n",
        "from statsmodels.compat import lzip\n",
        "\n",
        "# Import para divisão dos dados\n",
        "import sklearn\n",
        "from sklearn.model_selection import train_test_split\n",
        "\n",
        "\n",
        "from sklearn.metrics import r2_score\n",
        "from sklearn.ensemble import RandomForestRegressor\n",
        "import seaborn as sns\n",
        "from sklearn.decomposition import PCA\n",
        "from sklearn.preprocessing import StandardScaler"
      ],
      "metadata": {
        "id": "gG3SMqGJ8J__"
      },
      "execution_count": 153,
      "outputs": []
    },
    {
      "cell_type": "code",
      "execution_count": 154,
      "metadata": {
        "id": "nBP2W4Vt7oHE"
      },
      "outputs": [],
      "source": [
        "\n",
        "rentals=pd.read_csv(\"/content/drive/MyDrive/AED/PROJETO/rentals.csv\", index_col=False, usecols=['latitude', 'longitude', 'property_type', 'room_type',\n",
        "       'bathrooms', 'bedrooms', 'minimum_nights', 'price'])"
      ]
    },
    {
      "cell_type": "markdown",
      "source": [
        "#Analise dos dados"
      ],
      "metadata": {
        "id": "Ip14F8DM9iNR"
      }
    },
    {
      "cell_type": "code",
      "source": [
        "rentals.head()"
      ],
      "metadata": {
        "colab": {
          "base_uri": "https://localhost:8080/",
          "height": 206
        },
        "id": "QZtGosRJ8VI_",
        "outputId": "f55e8ed8-b285-40df-e894-58de5db58a54"
      },
      "execution_count": 155,
      "outputs": [
        {
          "output_type": "execute_result",
          "data": {
            "text/plain": [
              "   latitude  longitude property_type        room_type  bathrooms  bedrooms  \\\n",
              "0  37.76931 -122.43386     Apartment  Entire home/apt        1.0       1.0   \n",
              "1  37.75402 -122.45805         House     Private room        1.0       1.0   \n",
              "2  37.74511 -122.42102     Apartment  Entire home/apt        1.0       2.0   \n",
              "3  37.76669 -122.45250     Apartment     Private room        4.0       1.0   \n",
              "4  37.76487 -122.45183     Apartment     Private room        4.0       1.0   \n",
              "\n",
              "   minimum_nights     price  \n",
              "0               1  $170.00   \n",
              "1               1   $99.00   \n",
              "2              30  $235.00   \n",
              "3              32   $65.00   \n",
              "4              32   $65.00   "
            ],
            "text/html": [
              "\n",
              "  <div id=\"df-731aeff6-092c-4e0f-8115-e75ef06fca53\">\n",
              "    <div class=\"colab-df-container\">\n",
              "      <div>\n",
              "<style scoped>\n",
              "    .dataframe tbody tr th:only-of-type {\n",
              "        vertical-align: middle;\n",
              "    }\n",
              "\n",
              "    .dataframe tbody tr th {\n",
              "        vertical-align: top;\n",
              "    }\n",
              "\n",
              "    .dataframe thead th {\n",
              "        text-align: right;\n",
              "    }\n",
              "</style>\n",
              "<table border=\"1\" class=\"dataframe\">\n",
              "  <thead>\n",
              "    <tr style=\"text-align: right;\">\n",
              "      <th></th>\n",
              "      <th>latitude</th>\n",
              "      <th>longitude</th>\n",
              "      <th>property_type</th>\n",
              "      <th>room_type</th>\n",
              "      <th>bathrooms</th>\n",
              "      <th>bedrooms</th>\n",
              "      <th>minimum_nights</th>\n",
              "      <th>price</th>\n",
              "    </tr>\n",
              "  </thead>\n",
              "  <tbody>\n",
              "    <tr>\n",
              "      <th>0</th>\n",
              "      <td>37.76931</td>\n",
              "      <td>-122.43386</td>\n",
              "      <td>Apartment</td>\n",
              "      <td>Entire home/apt</td>\n",
              "      <td>1.0</td>\n",
              "      <td>1.0</td>\n",
              "      <td>1</td>\n",
              "      <td>$170.00</td>\n",
              "    </tr>\n",
              "    <tr>\n",
              "      <th>1</th>\n",
              "      <td>37.75402</td>\n",
              "      <td>-122.45805</td>\n",
              "      <td>House</td>\n",
              "      <td>Private room</td>\n",
              "      <td>1.0</td>\n",
              "      <td>1.0</td>\n",
              "      <td>1</td>\n",
              "      <td>$99.00</td>\n",
              "    </tr>\n",
              "    <tr>\n",
              "      <th>2</th>\n",
              "      <td>37.74511</td>\n",
              "      <td>-122.42102</td>\n",
              "      <td>Apartment</td>\n",
              "      <td>Entire home/apt</td>\n",
              "      <td>1.0</td>\n",
              "      <td>2.0</td>\n",
              "      <td>30</td>\n",
              "      <td>$235.00</td>\n",
              "    </tr>\n",
              "    <tr>\n",
              "      <th>3</th>\n",
              "      <td>37.76669</td>\n",
              "      <td>-122.45250</td>\n",
              "      <td>Apartment</td>\n",
              "      <td>Private room</td>\n",
              "      <td>4.0</td>\n",
              "      <td>1.0</td>\n",
              "      <td>32</td>\n",
              "      <td>$65.00</td>\n",
              "    </tr>\n",
              "    <tr>\n",
              "      <th>4</th>\n",
              "      <td>37.76487</td>\n",
              "      <td>-122.45183</td>\n",
              "      <td>Apartment</td>\n",
              "      <td>Private room</td>\n",
              "      <td>4.0</td>\n",
              "      <td>1.0</td>\n",
              "      <td>32</td>\n",
              "      <td>$65.00</td>\n",
              "    </tr>\n",
              "  </tbody>\n",
              "</table>\n",
              "</div>\n",
              "      <button class=\"colab-df-convert\" onclick=\"convertToInteractive('df-731aeff6-092c-4e0f-8115-e75ef06fca53')\"\n",
              "              title=\"Convert this dataframe to an interactive table.\"\n",
              "              style=\"display:none;\">\n",
              "        \n",
              "  <svg xmlns=\"http://www.w3.org/2000/svg\" height=\"24px\"viewBox=\"0 0 24 24\"\n",
              "       width=\"24px\">\n",
              "    <path d=\"M0 0h24v24H0V0z\" fill=\"none\"/>\n",
              "    <path d=\"M18.56 5.44l.94 2.06.94-2.06 2.06-.94-2.06-.94-.94-2.06-.94 2.06-2.06.94zm-11 1L8.5 8.5l.94-2.06 2.06-.94-2.06-.94L8.5 2.5l-.94 2.06-2.06.94zm10 10l.94 2.06.94-2.06 2.06-.94-2.06-.94-.94-2.06-.94 2.06-2.06.94z\"/><path d=\"M17.41 7.96l-1.37-1.37c-.4-.4-.92-.59-1.43-.59-.52 0-1.04.2-1.43.59L10.3 9.45l-7.72 7.72c-.78.78-.78 2.05 0 2.83L4 21.41c.39.39.9.59 1.41.59.51 0 1.02-.2 1.41-.59l7.78-7.78 2.81-2.81c.8-.78.8-2.07 0-2.86zM5.41 20L4 18.59l7.72-7.72 1.47 1.35L5.41 20z\"/>\n",
              "  </svg>\n",
              "      </button>\n",
              "      \n",
              "  <style>\n",
              "    .colab-df-container {\n",
              "      display:flex;\n",
              "      flex-wrap:wrap;\n",
              "      gap: 12px;\n",
              "    }\n",
              "\n",
              "    .colab-df-convert {\n",
              "      background-color: #E8F0FE;\n",
              "      border: none;\n",
              "      border-radius: 50%;\n",
              "      cursor: pointer;\n",
              "      display: none;\n",
              "      fill: #1967D2;\n",
              "      height: 32px;\n",
              "      padding: 0 0 0 0;\n",
              "      width: 32px;\n",
              "    }\n",
              "\n",
              "    .colab-df-convert:hover {\n",
              "      background-color: #E2EBFA;\n",
              "      box-shadow: 0px 1px 2px rgba(60, 64, 67, 0.3), 0px 1px 3px 1px rgba(60, 64, 67, 0.15);\n",
              "      fill: #174EA6;\n",
              "    }\n",
              "\n",
              "    [theme=dark] .colab-df-convert {\n",
              "      background-color: #3B4455;\n",
              "      fill: #D2E3FC;\n",
              "    }\n",
              "\n",
              "    [theme=dark] .colab-df-convert:hover {\n",
              "      background-color: #434B5C;\n",
              "      box-shadow: 0px 1px 3px 1px rgba(0, 0, 0, 0.15);\n",
              "      filter: drop-shadow(0px 1px 2px rgba(0, 0, 0, 0.3));\n",
              "      fill: #FFFFFF;\n",
              "    }\n",
              "  </style>\n",
              "\n",
              "      <script>\n",
              "        const buttonEl =\n",
              "          document.querySelector('#df-731aeff6-092c-4e0f-8115-e75ef06fca53 button.colab-df-convert');\n",
              "        buttonEl.style.display =\n",
              "          google.colab.kernel.accessAllowed ? 'block' : 'none';\n",
              "\n",
              "        async function convertToInteractive(key) {\n",
              "          const element = document.querySelector('#df-731aeff6-092c-4e0f-8115-e75ef06fca53');\n",
              "          const dataTable =\n",
              "            await google.colab.kernel.invokeFunction('convertToInteractive',\n",
              "                                                     [key], {});\n",
              "          if (!dataTable) return;\n",
              "\n",
              "          const docLinkHtml = 'Like what you see? Visit the ' +\n",
              "            '<a target=\"_blank\" href=https://colab.research.google.com/notebooks/data_table.ipynb>data table notebook</a>'\n",
              "            + ' to learn more about interactive tables.';\n",
              "          element.innerHTML = '';\n",
              "          dataTable['output_type'] = 'display_data';\n",
              "          await google.colab.output.renderOutput(dataTable, element);\n",
              "          const docLink = document.createElement('div');\n",
              "          docLink.innerHTML = docLinkHtml;\n",
              "          element.appendChild(docLink);\n",
              "        }\n",
              "      </script>\n",
              "    </div>\n",
              "  </div>\n",
              "  "
            ]
          },
          "metadata": {},
          "execution_count": 155
        }
      ]
    },
    {
      "cell_type": "code",
      "source": [
        "rentals2=rentals.copy()"
      ],
      "metadata": {
        "id": "IwAgBR958e5W"
      },
      "execution_count": 156,
      "outputs": []
    },
    {
      "cell_type": "code",
      "source": [
        "rentals.shape"
      ],
      "metadata": {
        "colab": {
          "base_uri": "https://localhost:8080/"
        },
        "id": "NubqwsCo8jeC",
        "outputId": "b603afed-47e7-4105-8360-5fafeedb81ef"
      },
      "execution_count": 157,
      "outputs": [
        {
          "output_type": "execute_result",
          "data": {
            "text/plain": [
              "(8111, 8)"
            ]
          },
          "metadata": {},
          "execution_count": 157
        }
      ]
    },
    {
      "cell_type": "code",
      "source": [
        "rentals.dtypes\n"
      ],
      "metadata": {
        "colab": {
          "base_uri": "https://localhost:8080/"
        },
        "id": "2rrEK3wu8ldq",
        "outputId": "c689c60e-4294-43b8-b695-babfef6ebeed"
      },
      "execution_count": 158,
      "outputs": [
        {
          "output_type": "execute_result",
          "data": {
            "text/plain": [
              "latitude          float64\n",
              "longitude         float64\n",
              "property_type      object\n",
              "room_type          object\n",
              "bathrooms         float64\n",
              "bedrooms          float64\n",
              "minimum_nights      int64\n",
              "price              object\n",
              "dtype: object"
            ]
          },
          "metadata": {},
          "execution_count": 158
        }
      ]
    },
    {
      "cell_type": "code",
      "source": [
        "rentals['price']\n",
        "rentals['price']=rentals['price'].str.strip(\"$\")\n",
        "rentals['price']=rentals['price'].str.strip(\" \")\n",
        "rentals['price']=rentals['price'].str.replace(',','')\n",
        "rentals['price']=rentals['price'].astype(float)\n"
      ],
      "metadata": {
        "id": "nuNwK8mb-PRo"
      },
      "execution_count": 159,
      "outputs": []
    },
    {
      "cell_type": "code",
      "source": [
        "rentals.info()"
      ],
      "metadata": {
        "colab": {
          "base_uri": "https://localhost:8080/"
        },
        "id": "DgmbHQ4W8pRT",
        "outputId": "c18ef57e-3fac-4ae2-be1b-9dfd158dbe81"
      },
      "execution_count": 160,
      "outputs": [
        {
          "output_type": "stream",
          "name": "stdout",
          "text": [
            "<class 'pandas.core.frame.DataFrame'>\n",
            "RangeIndex: 8111 entries, 0 to 8110\n",
            "Data columns (total 8 columns):\n",
            " #   Column          Non-Null Count  Dtype  \n",
            "---  ------          --------------  -----  \n",
            " 0   latitude        8111 non-null   float64\n",
            " 1   longitude       8111 non-null   float64\n",
            " 2   property_type   8111 non-null   object \n",
            " 3   room_type       8111 non-null   object \n",
            " 4   bathrooms       8099 non-null   float64\n",
            " 5   bedrooms        8107 non-null   float64\n",
            " 6   minimum_nights  8111 non-null   int64  \n",
            " 7   price           8111 non-null   float64\n",
            "dtypes: float64(5), int64(1), object(2)\n",
            "memory usage: 507.1+ KB\n"
          ]
        }
      ]
    },
    {
      "cell_type": "markdown",
      "source": [
        "\n",
        "\n",
        "*   Tem valores ausentes\n",
        "\n"
      ],
      "metadata": {
        "id": "fsswYW4B9WV3"
      }
    },
    {
      "cell_type": "code",
      "source": [
        "rentals.dropna(inplace=True)\n",
        "rentals.info()"
      ],
      "metadata": {
        "colab": {
          "base_uri": "https://localhost:8080/"
        },
        "id": "0aCfInEg9bcG",
        "outputId": "194023f4-6c3e-4220-e5ff-274e2ea0bc03"
      },
      "execution_count": 161,
      "outputs": [
        {
          "output_type": "stream",
          "name": "stdout",
          "text": [
            "<class 'pandas.core.frame.DataFrame'>\n",
            "Int64Index: 8095 entries, 0 to 8110\n",
            "Data columns (total 8 columns):\n",
            " #   Column          Non-Null Count  Dtype  \n",
            "---  ------          --------------  -----  \n",
            " 0   latitude        8095 non-null   float64\n",
            " 1   longitude       8095 non-null   float64\n",
            " 2   property_type   8095 non-null   object \n",
            " 3   room_type       8095 non-null   object \n",
            " 4   bathrooms       8095 non-null   float64\n",
            " 5   bedrooms        8095 non-null   float64\n",
            " 6   minimum_nights  8095 non-null   int64  \n",
            " 7   price           8095 non-null   float64\n",
            "dtypes: float64(5), int64(1), object(2)\n",
            "memory usage: 569.2+ KB\n"
          ]
        }
      ]
    },
    {
      "cell_type": "code",
      "source": [
        "rentals.describe()"
      ],
      "metadata": {
        "colab": {
          "base_uri": "https://localhost:8080/",
          "height": 300
        },
        "id": "gJ2C2FDj8r7G",
        "outputId": "6ffc4076-340a-45f2-92a1-b2e1785eb0c3"
      },
      "execution_count": 162,
      "outputs": [
        {
          "output_type": "execute_result",
          "data": {
            "text/plain": [
              "          latitude    longitude    bathrooms     bedrooms  minimum_nights  \\\n",
              "count  8095.000000  8095.000000  8095.000000  8095.000000    8.095000e+03   \n",
              "mean     37.766017  -122.430126     1.395862     1.346387    1.236963e+04   \n",
              "std       0.022937     0.026974     0.923114     0.925888    1.111454e+06   \n",
              "min      37.704630  -122.513060     0.000000     0.000000    1.000000e+00   \n",
              "25%      37.751430  -122.442855     1.000000     1.000000    2.000000e+00   \n",
              "50%      37.769090  -122.424670     1.000000     1.000000    4.000000e+00   \n",
              "75%      37.785600  -122.410625     1.500000     2.000000    3.000000e+01   \n",
              "max      37.828790  -122.368570    14.000000    14.000000    1.000000e+08   \n",
              "\n",
              "              price  \n",
              "count   8095.000000  \n",
              "mean     225.646325  \n",
              "std      412.575797  \n",
              "min        0.000000  \n",
              "25%      100.000000  \n",
              "50%      150.000000  \n",
              "75%      240.000000  \n",
              "max    10000.000000  "
            ],
            "text/html": [
              "\n",
              "  <div id=\"df-b3934103-f45a-4b7e-a4a5-40fdf3865ef5\">\n",
              "    <div class=\"colab-df-container\">\n",
              "      <div>\n",
              "<style scoped>\n",
              "    .dataframe tbody tr th:only-of-type {\n",
              "        vertical-align: middle;\n",
              "    }\n",
              "\n",
              "    .dataframe tbody tr th {\n",
              "        vertical-align: top;\n",
              "    }\n",
              "\n",
              "    .dataframe thead th {\n",
              "        text-align: right;\n",
              "    }\n",
              "</style>\n",
              "<table border=\"1\" class=\"dataframe\">\n",
              "  <thead>\n",
              "    <tr style=\"text-align: right;\">\n",
              "      <th></th>\n",
              "      <th>latitude</th>\n",
              "      <th>longitude</th>\n",
              "      <th>bathrooms</th>\n",
              "      <th>bedrooms</th>\n",
              "      <th>minimum_nights</th>\n",
              "      <th>price</th>\n",
              "    </tr>\n",
              "  </thead>\n",
              "  <tbody>\n",
              "    <tr>\n",
              "      <th>count</th>\n",
              "      <td>8095.000000</td>\n",
              "      <td>8095.000000</td>\n",
              "      <td>8095.000000</td>\n",
              "      <td>8095.000000</td>\n",
              "      <td>8.095000e+03</td>\n",
              "      <td>8095.000000</td>\n",
              "    </tr>\n",
              "    <tr>\n",
              "      <th>mean</th>\n",
              "      <td>37.766017</td>\n",
              "      <td>-122.430126</td>\n",
              "      <td>1.395862</td>\n",
              "      <td>1.346387</td>\n",
              "      <td>1.236963e+04</td>\n",
              "      <td>225.646325</td>\n",
              "    </tr>\n",
              "    <tr>\n",
              "      <th>std</th>\n",
              "      <td>0.022937</td>\n",
              "      <td>0.026974</td>\n",
              "      <td>0.923114</td>\n",
              "      <td>0.925888</td>\n",
              "      <td>1.111454e+06</td>\n",
              "      <td>412.575797</td>\n",
              "    </tr>\n",
              "    <tr>\n",
              "      <th>min</th>\n",
              "      <td>37.704630</td>\n",
              "      <td>-122.513060</td>\n",
              "      <td>0.000000</td>\n",
              "      <td>0.000000</td>\n",
              "      <td>1.000000e+00</td>\n",
              "      <td>0.000000</td>\n",
              "    </tr>\n",
              "    <tr>\n",
              "      <th>25%</th>\n",
              "      <td>37.751430</td>\n",
              "      <td>-122.442855</td>\n",
              "      <td>1.000000</td>\n",
              "      <td>1.000000</td>\n",
              "      <td>2.000000e+00</td>\n",
              "      <td>100.000000</td>\n",
              "    </tr>\n",
              "    <tr>\n",
              "      <th>50%</th>\n",
              "      <td>37.769090</td>\n",
              "      <td>-122.424670</td>\n",
              "      <td>1.000000</td>\n",
              "      <td>1.000000</td>\n",
              "      <td>4.000000e+00</td>\n",
              "      <td>150.000000</td>\n",
              "    </tr>\n",
              "    <tr>\n",
              "      <th>75%</th>\n",
              "      <td>37.785600</td>\n",
              "      <td>-122.410625</td>\n",
              "      <td>1.500000</td>\n",
              "      <td>2.000000</td>\n",
              "      <td>3.000000e+01</td>\n",
              "      <td>240.000000</td>\n",
              "    </tr>\n",
              "    <tr>\n",
              "      <th>max</th>\n",
              "      <td>37.828790</td>\n",
              "      <td>-122.368570</td>\n",
              "      <td>14.000000</td>\n",
              "      <td>14.000000</td>\n",
              "      <td>1.000000e+08</td>\n",
              "      <td>10000.000000</td>\n",
              "    </tr>\n",
              "  </tbody>\n",
              "</table>\n",
              "</div>\n",
              "      <button class=\"colab-df-convert\" onclick=\"convertToInteractive('df-b3934103-f45a-4b7e-a4a5-40fdf3865ef5')\"\n",
              "              title=\"Convert this dataframe to an interactive table.\"\n",
              "              style=\"display:none;\">\n",
              "        \n",
              "  <svg xmlns=\"http://www.w3.org/2000/svg\" height=\"24px\"viewBox=\"0 0 24 24\"\n",
              "       width=\"24px\">\n",
              "    <path d=\"M0 0h24v24H0V0z\" fill=\"none\"/>\n",
              "    <path d=\"M18.56 5.44l.94 2.06.94-2.06 2.06-.94-2.06-.94-.94-2.06-.94 2.06-2.06.94zm-11 1L8.5 8.5l.94-2.06 2.06-.94-2.06-.94L8.5 2.5l-.94 2.06-2.06.94zm10 10l.94 2.06.94-2.06 2.06-.94-2.06-.94-.94-2.06-.94 2.06-2.06.94z\"/><path d=\"M17.41 7.96l-1.37-1.37c-.4-.4-.92-.59-1.43-.59-.52 0-1.04.2-1.43.59L10.3 9.45l-7.72 7.72c-.78.78-.78 2.05 0 2.83L4 21.41c.39.39.9.59 1.41.59.51 0 1.02-.2 1.41-.59l7.78-7.78 2.81-2.81c.8-.78.8-2.07 0-2.86zM5.41 20L4 18.59l7.72-7.72 1.47 1.35L5.41 20z\"/>\n",
              "  </svg>\n",
              "      </button>\n",
              "      \n",
              "  <style>\n",
              "    .colab-df-container {\n",
              "      display:flex;\n",
              "      flex-wrap:wrap;\n",
              "      gap: 12px;\n",
              "    }\n",
              "\n",
              "    .colab-df-convert {\n",
              "      background-color: #E8F0FE;\n",
              "      border: none;\n",
              "      border-radius: 50%;\n",
              "      cursor: pointer;\n",
              "      display: none;\n",
              "      fill: #1967D2;\n",
              "      height: 32px;\n",
              "      padding: 0 0 0 0;\n",
              "      width: 32px;\n",
              "    }\n",
              "\n",
              "    .colab-df-convert:hover {\n",
              "      background-color: #E2EBFA;\n",
              "      box-shadow: 0px 1px 2px rgba(60, 64, 67, 0.3), 0px 1px 3px 1px rgba(60, 64, 67, 0.15);\n",
              "      fill: #174EA6;\n",
              "    }\n",
              "\n",
              "    [theme=dark] .colab-df-convert {\n",
              "      background-color: #3B4455;\n",
              "      fill: #D2E3FC;\n",
              "    }\n",
              "\n",
              "    [theme=dark] .colab-df-convert:hover {\n",
              "      background-color: #434B5C;\n",
              "      box-shadow: 0px 1px 3px 1px rgba(0, 0, 0, 0.15);\n",
              "      filter: drop-shadow(0px 1px 2px rgba(0, 0, 0, 0.3));\n",
              "      fill: #FFFFFF;\n",
              "    }\n",
              "  </style>\n",
              "\n",
              "      <script>\n",
              "        const buttonEl =\n",
              "          document.querySelector('#df-b3934103-f45a-4b7e-a4a5-40fdf3865ef5 button.colab-df-convert');\n",
              "        buttonEl.style.display =\n",
              "          google.colab.kernel.accessAllowed ? 'block' : 'none';\n",
              "\n",
              "        async function convertToInteractive(key) {\n",
              "          const element = document.querySelector('#df-b3934103-f45a-4b7e-a4a5-40fdf3865ef5');\n",
              "          const dataTable =\n",
              "            await google.colab.kernel.invokeFunction('convertToInteractive',\n",
              "                                                     [key], {});\n",
              "          if (!dataTable) return;\n",
              "\n",
              "          const docLinkHtml = 'Like what you see? Visit the ' +\n",
              "            '<a target=\"_blank\" href=https://colab.research.google.com/notebooks/data_table.ipynb>data table notebook</a>'\n",
              "            + ' to learn more about interactive tables.';\n",
              "          element.innerHTML = '';\n",
              "          dataTable['output_type'] = 'display_data';\n",
              "          await google.colab.output.renderOutput(dataTable, element);\n",
              "          const docLink = document.createElement('div');\n",
              "          docLink.innerHTML = docLinkHtml;\n",
              "          element.appendChild(docLink);\n",
              "        }\n",
              "      </script>\n",
              "    </div>\n",
              "  </div>\n",
              "  "
            ]
          },
          "metadata": {},
          "execution_count": 162
        }
      ]
    },
    {
      "cell_type": "code",
      "source": [
        "rentals.skew(axis = 0)"
      ],
      "metadata": {
        "colab": {
          "base_uri": "https://localhost:8080/"
        },
        "id": "sUpTtuXSis-s",
        "outputId": "339f0239-dd17-4aca-d4e3-3d5e83cae437"
      },
      "execution_count": 163,
      "outputs": [
        {
          "output_type": "stream",
          "name": "stderr",
          "text": [
            "<ipython-input-163-ff44421a3196>:1: FutureWarning: The default value of numeric_only in DataFrame.skew is deprecated. In a future version, it will default to False. In addition, specifying 'numeric_only=None' is deprecated. Select only valid columns or specify the value of numeric_only to silence this warning.\n",
            "  rentals.skew(axis = 0)\n"
          ]
        },
        {
          "output_type": "execute_result",
          "data": {
            "text/plain": [
              "latitude          -0.445444\n",
              "longitude         -0.959394\n",
              "bathrooms          4.414721\n",
              "bedrooms           1.569869\n",
              "minimum_nights    89.972218\n",
              "price             16.152055\n",
              "dtype: float64"
            ]
          },
          "metadata": {},
          "execution_count": 163
        }
      ]
    },
    {
      "cell_type": "code",
      "source": [
        "rentals.minimum_nights.value_counts(dropna=True)"
      ],
      "metadata": {
        "colab": {
          "base_uri": "https://localhost:8080/"
        },
        "id": "mIiL7vzNlvre",
        "outputId": "8585ea55-42f4-43f2-e8a0-4f1bdd0d1710"
      },
      "execution_count": 164,
      "outputs": [
        {
          "output_type": "execute_result",
          "data": {
            "text/plain": [
              "30           3262\n",
              "2            1553\n",
              "1            1422\n",
              "3             863\n",
              "4             322\n",
              "5             216\n",
              "31            114\n",
              "7              74\n",
              "32             60\n",
              "60             40\n",
              "6              36\n",
              "90             31\n",
              "180            18\n",
              "14             10\n",
              "365             9\n",
              "13              4\n",
              "120             4\n",
              "21              4\n",
              "10              4\n",
              "183             3\n",
              "360             3\n",
              "50              3\n",
              "80              3\n",
              "18              2\n",
              "29              2\n",
              "45              2\n",
              "58              2\n",
              "8               2\n",
              "75              2\n",
              "40              2\n",
              "100             1\n",
              "1000            1\n",
              "65              1\n",
              "15              1\n",
              "12              1\n",
              "38              1\n",
              "25              1\n",
              "11              1\n",
              "150             1\n",
              "188             1\n",
              "59              1\n",
              "100000000       1\n",
              "85              1\n",
              "1125            1\n",
              "28              1\n",
              "140             1\n",
              "55              1\n",
              "110             1\n",
              "16              1\n",
              "70              1\n",
              "200             1\n",
              "9               1\n",
              "33              1\n",
              "Name: minimum_nights, dtype: int64"
            ]
          },
          "metadata": {},
          "execution_count": 164
        }
      ]
    },
    {
      "cell_type": "code",
      "source": [
        "rentals['minimum_nights'] = np.log(rentals['minimum_nights'])"
      ],
      "metadata": {
        "id": "Wmz5FSH4k-t0"
      },
      "execution_count": 165,
      "outputs": []
    },
    {
      "cell_type": "code",
      "source": [
        "rentals.minimum_nights.value_counts(dropna=True)"
      ],
      "metadata": {
        "colab": {
          "base_uri": "https://localhost:8080/"
        },
        "id": "GnP9AhlYlUAd",
        "outputId": "5780df5b-e9a9-4fd1-ed2f-b15c357b8349"
      },
      "execution_count": 166,
      "outputs": [
        {
          "output_type": "execute_result",
          "data": {
            "text/plain": [
              "3.401197     3262\n",
              "0.693147     1553\n",
              "0.000000     1422\n",
              "1.098612      863\n",
              "1.386294      322\n",
              "1.609438      216\n",
              "3.433987      114\n",
              "1.945910       74\n",
              "3.465736       60\n",
              "4.094345       40\n",
              "1.791759       36\n",
              "4.499810       31\n",
              "5.192957       18\n",
              "2.639057       10\n",
              "5.899897        9\n",
              "2.564949        4\n",
              "4.787492        4\n",
              "3.044522        4\n",
              "2.302585        4\n",
              "5.209486        3\n",
              "5.886104        3\n",
              "3.912023        3\n",
              "4.382027        3\n",
              "2.890372        2\n",
              "3.367296        2\n",
              "3.806662        2\n",
              "4.060443        2\n",
              "2.079442        2\n",
              "4.317488        2\n",
              "3.688879        2\n",
              "4.605170        1\n",
              "6.907755        1\n",
              "4.174387        1\n",
              "2.708050        1\n",
              "2.484907        1\n",
              "3.637586        1\n",
              "3.218876        1\n",
              "2.397895        1\n",
              "5.010635        1\n",
              "5.236442        1\n",
              "4.077537        1\n",
              "18.420681       1\n",
              "4.442651        1\n",
              "7.025538        1\n",
              "3.332205        1\n",
              "4.941642        1\n",
              "4.007333        1\n",
              "4.700480        1\n",
              "2.772589        1\n",
              "4.248495        1\n",
              "5.298317        1\n",
              "2.197225        1\n",
              "3.496508        1\n",
              "Name: minimum_nights, dtype: int64"
            ]
          },
          "metadata": {},
          "execution_count": 166
        }
      ]
    },
    {
      "cell_type": "code",
      "source": [
        "rentals.skew(axis = 0)"
      ],
      "metadata": {
        "colab": {
          "base_uri": "https://localhost:8080/"
        },
        "id": "hBv_5wxclHAs",
        "outputId": "fe77c149-6626-4f00-8551-2a0669cd2e0c"
      },
      "execution_count": 167,
      "outputs": [
        {
          "output_type": "stream",
          "name": "stderr",
          "text": [
            "<ipython-input-167-ff44421a3196>:1: FutureWarning: The default value of numeric_only in DataFrame.skew is deprecated. In a future version, it will default to False. In addition, specifying 'numeric_only=None' is deprecated. Select only valid columns or specify the value of numeric_only to silence this warning.\n",
            "  rentals.skew(axis = 0)\n"
          ]
        },
        {
          "output_type": "execute_result",
          "data": {
            "text/plain": [
              "latitude          -0.445444\n",
              "longitude         -0.959394\n",
              "bathrooms          4.414721\n",
              "bedrooms           1.569869\n",
              "minimum_nights     0.237254\n",
              "price             16.152055\n",
              "dtype: float64"
            ]
          },
          "metadata": {},
          "execution_count": 167
        }
      ]
    },
    {
      "cell_type": "code",
      "source": [
        "rentals.columns"
      ],
      "metadata": {
        "id": "VM4Tdtxt8yUV",
        "outputId": "2f28331a-ab47-414b-f82c-c43974ec4f75",
        "colab": {
          "base_uri": "https://localhost:8080/"
        }
      },
      "execution_count": 168,
      "outputs": [
        {
          "output_type": "execute_result",
          "data": {
            "text/plain": [
              "Index(['latitude', 'longitude', 'property_type', 'room_type', 'bathrooms',\n",
              "       'bedrooms', 'minimum_nights', 'price'],\n",
              "      dtype='object')"
            ]
          },
          "metadata": {},
          "execution_count": 168
        }
      ]
    },
    {
      "cell_type": "code",
      "source": [
        "plt.figure(figsize = (7, 4))\n",
        "sns.histplot(data = rentals, x = rentals['bedrooms'], kde = True)\n",
        "plt.show()"
      ],
      "metadata": {
        "colab": {
          "base_uri": "https://localhost:8080/",
          "height": 389
        },
        "id": "yvKYIH1e9BVM",
        "outputId": "52f6cddb-b700-4331-ffe8-6fa315ff8427"
      },
      "execution_count": 169,
      "outputs": [
        {
          "output_type": "display_data",
          "data": {
            "text/plain": [
              "<Figure size 700x400 with 1 Axes>"
            ],
            "image/png": "[encoded data removed]"
          },
          "metadata": {}
        }
      ]
    },
    {
      "cell_type": "markdown",
      "source": [
        "\n",
        "\n",
        "*   Maioria das casas com 1 quarto\n",
        "\n",
        "\n",
        "\n"
      ],
      "metadata": {
        "id": "XINXpn6GANmA"
      }
    },
    {
      "cell_type": "code",
      "source": [
        "plt.figure(figsize = (7, 4))\n",
        "sns.histplot(data = rentals, x = rentals['bathrooms'], kde = True)\n",
        "plt.show()"
      ],
      "metadata": {
        "colab": {
          "base_uri": "https://localhost:8080/",
          "height": 388
        },
        "id": "wjKT7RF19NbU",
        "outputId": "cfc7cc8c-8868-4c70-cc07-80165b76fa2c"
      },
      "execution_count": 170,
      "outputs": [
        {
          "output_type": "display_data",
          "data": {
            "text/plain": [
              "<Figure size 700x400 with 1 Axes>"
            ],
            "image/png": "[encoded data removed]"
          },
          "metadata": {}
        }
      ]
    },
    {
      "cell_type": "markdown",
      "source": [
        "\n",
        "\n",
        "*   Maioria das casas com 1 banheiro\n",
        "\n",
        "\n"
      ],
      "metadata": {
        "id": "mEtVqiH0AXwX"
      }
    },
    {
      "cell_type": "code",
      "source": [
        "plt.figure(figsize = (14, 6))\n",
        "sns.histplot(data = rentals, x = rentals['property_type'], kde = True)\n",
        "plt.xticks(rotation=55)\n",
        "plt.show()"
      ],
      "metadata": {
        "colab": {
          "base_uri": "https://localhost:8080/",
          "height": 649
        },
        "id": "9ZyHFxGiAVax",
        "outputId": "ba7c0342-aeb4-4997-b80c-8e3144391a43"
      },
      "execution_count": 171,
      "outputs": [
        {
          "output_type": "display_data",
          "data": {
            "text/plain": [
              "<Figure size 1400x600 with 1 Axes>"
            ],
            "image/png": "[encoded data removed]"
          },
          "metadata": {}
        }
      ]
    },
    {
      "cell_type": "markdown",
      "source": [
        "Maioria das propiedades são do tipo Apartamento e casa"
      ],
      "metadata": {
        "id": "1yz4E7g5Ba0_"
      }
    },
    {
      "cell_type": "code",
      "source": [
        "rentals.corr()"
      ],
      "metadata": {
        "id": "5DjHtz7-COnq",
        "colab": {
          "base_uri": "https://localhost:8080/",
          "height": 294
        },
        "outputId": "4d5e97fa-8594-4085-b291-c22a511c3f12"
      },
      "execution_count": 172,
      "outputs": [
        {
          "output_type": "stream",
          "name": "stderr",
          "text": [
            "<ipython-input-172-b8fbe2a52e05>:1: FutureWarning: The default value of numeric_only in DataFrame.corr is deprecated. In a future version, it will default to False. Select only valid columns or specify the value of numeric_only to silence this warning.\n",
            "  rentals.corr()\n"
          ]
        },
        {
          "output_type": "execute_result",
          "data": {
            "text/plain": [
              "                latitude  longitude  bathrooms  bedrooms  minimum_nights  \\\n",
              "latitude        1.000000   0.187000   0.078469 -0.108647        0.176787   \n",
              "longitude       0.187000   1.000000   0.007627 -0.115893        0.114537   \n",
              "bathrooms       0.078469   0.007627   1.000000  0.327916        0.029689   \n",
              "bedrooms       -0.108647  -0.115893   0.327916  1.000000       -0.002005   \n",
              "minimum_nights  0.176787   0.114537   0.029689 -0.002005        1.000000   \n",
              "price           0.083231   0.015867   0.081981  0.262343       -0.073196   \n",
              "\n",
              "                   price  \n",
              "latitude        0.083231  \n",
              "longitude       0.015867  \n",
              "bathrooms       0.081981  \n",
              "bedrooms        0.262343  \n",
              "minimum_nights -0.073196  \n",
              "price           1.000000  "
            ],
            "text/html": [
              "\n",
              "  <div id=\"df-62e2697b-2aa7-4410-b8c4-97c34a6d61e4\">\n",
              "    <div class=\"colab-df-container\">\n",
              "      <div>\n",
              "<style scoped>\n",
              "    .dataframe tbody tr th:only-of-type {\n",
              "        vertical-align: middle;\n",
              "    }\n",
              "\n",
              "    .dataframe tbody tr th {\n",
              "        vertical-align: top;\n",
              "    }\n",
              "\n",
              "    .dataframe thead th {\n",
              "        text-align: right;\n",
              "    }\n",
              "</style>\n",
              "<table border=\"1\" class=\"dataframe\">\n",
              "  <thead>\n",
              "    <tr style=\"text-align: right;\">\n",
              "      <th></th>\n",
              "      <th>latitude</th>\n",
              "      <th>longitude</th>\n",
              "      <th>bathrooms</th>\n",
              "      <th>bedrooms</th>\n",
              "      <th>minimum_nights</th>\n",
              "      <th>price</th>\n",
              "    </tr>\n",
              "  </thead>\n",
              "  <tbody>\n",
              "    <tr>\n",
              "      <th>latitude</th>\n",
              "      <td>1.000000</td>\n",
              "      <td>0.187000</td>\n",
              "      <td>0.078469</td>\n",
              "      <td>-0.108647</td>\n",
              "      <td>0.176787</td>\n",
              "      <td>0.083231</td>\n",
              "    </tr>\n",
              "    <tr>\n",
              "      <th>longitude</th>\n",
              "      <td>0.187000</td>\n",
              "      <td>1.000000</td>\n",
              "      <td>0.007627</td>\n",
              "      <td>-0.115893</td>\n",
              "      <td>0.114537</td>\n",
              "      <td>0.015867</td>\n",
              "    </tr>\n",
              "    <tr>\n",
              "      <th>bathrooms</th>\n",
              "      <td>0.078469</td>\n",
              "      <td>0.007627</td>\n",
              "      <td>1.000000</td>\n",
              "      <td>0.327916</td>\n",
              "      <td>0.029689</td>\n",
              "      <td>0.081981</td>\n",
              "    </tr>\n",
              "    <tr>\n",
              "      <th>bedrooms</th>\n",
              "      <td>-0.108647</td>\n",
              "      <td>-0.115893</td>\n",
              "      <td>0.327916</td>\n",
              "      <td>1.000000</td>\n",
              "      <td>-0.002005</td>\n",
              "      <td>0.262343</td>\n",
              "    </tr>\n",
              "    <tr>\n",
              "      <th>minimum_nights</th>\n",
              "      <td>0.176787</td>\n",
              "      <td>0.114537</td>\n",
              "      <td>0.029689</td>\n",
              "      <td>-0.002005</td>\n",
              "      <td>1.000000</td>\n",
              "      <td>-0.073196</td>\n",
              "    </tr>\n",
              "    <tr>\n",
              "      <th>price</th>\n",
              "      <td>0.083231</td>\n",
              "      <td>0.015867</td>\n",
              "      <td>0.081981</td>\n",
              "      <td>0.262343</td>\n",
              "      <td>-0.073196</td>\n",
              "      <td>1.000000</td>\n",
              "    </tr>\n",
              "  </tbody>\n",
              "</table>\n",
              "</div>\n",
              "      <button class=\"colab-df-convert\" onclick=\"convertToInteractive('df-62e2697b-2aa7-4410-b8c4-97c34a6d61e4')\"\n",
              "              title=\"Convert this dataframe to an interactive table.\"\n",
              "              style=\"display:none;\">\n",
              "        \n",
              "  <svg xmlns=\"http://www.w3.org/2000/svg\" height=\"24px\"viewBox=\"0 0 24 24\"\n",
              "       width=\"24px\">\n",
              "    <path d=\"M0 0h24v24H0V0z\" fill=\"none\"/>\n",
              "    <path d=\"M18.56 5.44l.94 2.06.94-2.06 2.06-.94-2.06-.94-.94-2.06-.94 2.06-2.06.94zm-11 1L8.5 8.5l.94-2.06 2.06-.94-2.06-.94L8.5 2.5l-.94 2.06-2.06.94zm10 10l.94 2.06.94-2.06 2.06-.94-2.06-.94-.94-2.06-.94 2.06-2.06.94z\"/><path d=\"M17.41 7.96l-1.37-1.37c-.4-.4-.92-.59-1.43-.59-.52 0-1.04.2-1.43.59L10.3 9.45l-7.72 7.72c-.78.78-.78 2.05 0 2.83L4 21.41c.39.39.9.59 1.41.59.51 0 1.02-.2 1.41-.59l7.78-7.78 2.81-2.81c.8-.78.8-2.07 0-2.86zM5.41 20L4 18.59l7.72-7.72 1.47 1.35L5.41 20z\"/>\n",
              "  </svg>\n",
              "      </button>\n",
              "      \n",
              "  <style>\n",
              "    .colab-df-container {\n",
              "      display:flex;\n",
              "      flex-wrap:wrap;\n",
              "      gap: 12px;\n",
              "    }\n",
              "\n",
              "    .colab-df-convert {\n",
              "      background-color: #E8F0FE;\n",
              "      border: none;\n",
              "      border-radius: 50%;\n",
              "      cursor: pointer;\n",
              "      display: none;\n",
              "      fill: #1967D2;\n",
              "      height: 32px;\n",
              "      padding: 0 0 0 0;\n",
              "      width: 32px;\n",
              "    }\n",
              "\n",
              "    .colab-df-convert:hover {\n",
              "      background-color: #E2EBFA;\n",
              "      box-shadow: 0px 1px 2px rgba(60, 64, 67, 0.3), 0px 1px 3px 1px rgba(60, 64, 67, 0.15);\n",
              "      fill: #174EA6;\n",
              "    }\n",
              "\n",
              "    [theme=dark] .colab-df-convert {\n",
              "      background-color: #3B4455;\n",
              "      fill: #D2E3FC;\n",
              "    }\n",
              "\n",
              "    [theme=dark] .colab-df-convert:hover {\n",
              "      background-color: #434B5C;\n",
              "      box-shadow: 0px 1px 3px 1px rgba(0, 0, 0, 0.15);\n",
              "      filter: drop-shadow(0px 1px 2px rgba(0, 0, 0, 0.3));\n",
              "      fill: #FFFFFF;\n",
              "    }\n",
              "  </style>\n",
              "\n",
              "      <script>\n",
              "        const buttonEl =\n",
              "          document.querySelector('#df-62e2697b-2aa7-4410-b8c4-97c34a6d61e4 button.colab-df-convert');\n",
              "        buttonEl.style.display =\n",
              "          google.colab.kernel.accessAllowed ? 'block' : 'none';\n",
              "\n",
              "        async function convertToInteractive(key) {\n",
              "          const element = document.querySelector('#df-62e2697b-2aa7-4410-b8c4-97c34a6d61e4');\n",
              "          const dataTable =\n",
              "            await google.colab.kernel.invokeFunction('convertToInteractive',\n",
              "                                                     [key], {});\n",
              "          if (!dataTable) return;\n",
              "\n",
              "          const docLinkHtml = 'Like what you see? Visit the ' +\n",
              "            '<a target=\"_blank\" href=https://colab.research.google.com/notebooks/data_table.ipynb>data table notebook</a>'\n",
              "            + ' to learn more about interactive tables.';\n",
              "          element.innerHTML = '';\n",
              "          dataTable['output_type'] = 'display_data';\n",
              "          await google.colab.output.renderOutput(dataTable, element);\n",
              "          const docLink = document.createElement('div');\n",
              "          docLink.innerHTML = docLinkHtml;\n",
              "          element.appendChild(docLink);\n",
              "        }\n",
              "      </script>\n",
              "    </div>\n",
              "  </div>\n",
              "  "
            ]
          },
          "metadata": {},
          "execution_count": 172
        }
      ]
    },
    {
      "cell_type": "code",
      "source": [
        "plt.figure(figsize = (12,8))\n",
        "sns.heatmap(rentals.corr(), annot = True, fmt = '.2f', cmap = 'Reds', vmax = .99, vmin = -0.60)\n",
        "plt.show()"
      ],
      "metadata": {
        "colab": {
          "base_uri": "https://localhost:8080/",
          "height": 733
        },
        "id": "S1MQa3Ht9VbF",
        "outputId": "92390fa7-41bd-4405-f619-71e5b03a0c32"
      },
      "execution_count": 173,
      "outputs": [
        {
          "output_type": "stream",
          "name": "stderr",
          "text": [
            "<ipython-input-173-8f507fee041d>:2: FutureWarning: The default value of numeric_only in DataFrame.corr is deprecated. In a future version, it will default to False. Select only valid columns or specify the value of numeric_only to silence this warning.\n",
            "  sns.heatmap(rentals.corr(), annot = True, fmt = '.2f', cmap = 'Reds', vmax = .99, vmin = -0.60)\n"
          ]
        },
        {
          "output_type": "display_data",
          "data": {
            "text/plain": [
              "<Figure size 1200x800 with 2 Axes>"
            ],
            "image/png": "[encoded data removed]"
          },
          "metadata": {}
        }
      ]
    },
    {
      "cell_type": "code",
      "source": [
        "plt.figure(figsize = (7, 7))\n",
        "sns.regplot(x = 'bedrooms', y = 'bathrooms', data = rentals, color = 'green')\n",
        "plt.show()"
      ],
      "metadata": {
        "colab": {
          "base_uri": "https://localhost:8080/",
          "height": 619
        },
        "id": "l2YCR4rl9bvm",
        "outputId": "83def991-5120-4197-846d-c751c64790f8"
      },
      "execution_count": 174,
      "outputs": [
        {
          "output_type": "display_data",
          "data": {
            "text/plain": [
              "<Figure size 700x700 with 1 Axes>"
            ],
            "image/png": "[encoded data removed]"
          },
          "metadata": {}
        }
      ]
    },
    {
      "cell_type": "markdown",
      "source": [
        "Quanto mais quarto mais banheiro"
      ],
      "metadata": {
        "id": "-nD-T4rQ-GU5"
      }
    },
    {
      "cell_type": "code",
      "source": [
        "plt.figure(figsize = (7, 7))\n",
        "sns.regplot(x = 'bedrooms', y = 'price', data = rentals, color = 'green')\n",
        "plt.show()"
      ],
      "metadata": {
        "colab": {
          "base_uri": "https://localhost:8080/",
          "height": 619
        },
        "id": "DZaXFsNf_HKx",
        "outputId": "8aadea2c-f705-4201-f9f5-360317a67455"
      },
      "execution_count": 175,
      "outputs": [
        {
          "output_type": "display_data",
          "data": {
            "text/plain": [
              "<Figure size 700x700 with 1 Axes>"
            ],
            "image/png": "[encoded data removed]"
          },
          "metadata": {}
        }
      ]
    },
    {
      "cell_type": "code",
      "source": [
        "plt.figure(figsize = (7, 7))\n",
        "sns.regplot(x = 'bathrooms', y = 'price', data = rentals, color = 'green')\n",
        "plt.show()"
      ],
      "metadata": {
        "colab": {
          "base_uri": "https://localhost:8080/",
          "height": 619
        },
        "id": "oyAOpD-19ddq",
        "outputId": "395132e6-ea2e-4ac7-daaa-9003e590e8d1"
      },
      "execution_count": 176,
      "outputs": [
        {
          "output_type": "display_data",
          "data": {
            "text/plain": [
              "<Figure size 700x700 with 1 Axes>"
            ],
            "image/png": "[encoded data removed]"
          },
          "metadata": {}
        }
      ]
    },
    {
      "cell_type": "markdown",
      "source": [
        "Mais quarto mais caro a diaria"
      ],
      "metadata": {
        "id": "BXrpU87Q_Xqi"
      }
    },
    {
      "cell_type": "markdown",
      "source": [
        "#Removendo outliers"
      ],
      "metadata": {
        "id": "DAk0y9yb_lfI"
      }
    },
    {
      "cell_type": "markdown",
      "source": [
        "##Property type"
      ],
      "metadata": {
        "id": "9Lw3-4Ao8FhZ"
      }
    },
    {
      "cell_type": "code",
      "source": [
        "print(rentals.property_type.value_counts())"
      ],
      "metadata": {
        "colab": {
          "base_uri": "https://localhost:8080/"
        },
        "id": "8HztNSsE0Awp",
        "outputId": "e253029f-320f-4c63-9edf-ab6569b4b011"
      },
      "execution_count": 177,
      "outputs": [
        {
          "output_type": "stream",
          "name": "stdout",
          "text": [
            "Apartment             3234\n",
            "House                 2313\n",
            "Condominium            892\n",
            "Guest suite            577\n",
            "Boutique hotel         267\n",
            "Hotel                  157\n",
            "Townhouse              142\n",
            "Serviced apartment     121\n",
            "Loft                    88\n",
            "Hostel                  86\n",
            "Bed and breakfast       43\n",
            "Guesthouse              41\n",
            "Aparthotel              41\n",
            "Other                   24\n",
            "Bungalow                17\n",
            "Resort                  14\n",
            "Cottage                 12\n",
            "Villa                   10\n",
            "Castle                   4\n",
            "Cabin                    3\n",
            "Tiny house               3\n",
            "Earth house              2\n",
            "In-law                   1\n",
            "Camper/RV                1\n",
            "Dome house               1\n",
            "Hut                      1\n",
            "Name: property_type, dtype: int64\n"
          ]
        }
      ]
    },
    {
      "cell_type": "markdown",
      "source": [
        "##Bedrooms\n"
      ],
      "metadata": {
        "id": "bBhBW7ZU8Sme"
      }
    },
    {
      "cell_type": "code",
      "source": [
        "sns.boxplot(x=rentals['bedrooms'])\n",
        "print(rentals['bedrooms'].value_counts().astype(int))"
      ],
      "metadata": {
        "colab": {
          "base_uri": "https://localhost:8080/",
          "height": 650
        },
        "id": "3rhSJLPF0LTI",
        "outputId": "7d3a108f-c3be-42e1-e744-bec83fe118fa"
      },
      "execution_count": 178,
      "outputs": [
        {
          "output_type": "stream",
          "name": "stdout",
          "text": [
            "1.0     4833\n",
            "2.0     1472\n",
            "0.0      854\n",
            "3.0      694\n",
            "4.0      193\n",
            "5.0       37\n",
            "6.0        9\n",
            "14.0       1\n",
            "7.0        1\n",
            "8.0        1\n",
            "Name: bedrooms, dtype: int64\n"
          ]
        },
        {
          "output_type": "display_data",
          "data": {
            "text/plain": [
              "<Figure size 640x480 with 1 Axes>"
            ],
            "image/png": "[encoded data removed]"
          },
          "metadata": {}
        }
      ]
    },
    {
      "cell_type": "code",
      "source": [
        "drop=[14,7,8]\n",
        "rentals['bedrooms']=rentals['bedrooms'].astype(int)\n",
        "for i in drop:\n",
        "\trentals=rentals.drop(rentals[rentals.bedrooms == i].index)"
      ],
      "metadata": {
        "id": "9DeHzxiA0TOp"
      },
      "execution_count": 179,
      "outputs": []
    },
    {
      "cell_type": "markdown",
      "source": [
        "\n",
        "\n"
      ],
      "metadata": {
        "id": "xPDDLyiW8a5x"
      }
    },
    {
      "cell_type": "markdown",
      "source": [
        "##Bathrooms\n"
      ],
      "metadata": {
        "id": "Y6ak3c2X8e8_"
      }
    },
    {
      "cell_type": "code",
      "source": [
        "sns.boxplot(x=rentals['bathrooms'])\n",
        "print(rentals['bathrooms'].astype(int).value_counts())"
      ],
      "metadata": {
        "colab": {
          "base_uri": "https://localhost:8080/",
          "height": 650
        },
        "id": "X-NY0TAz0WKy",
        "outputId": "8a656162-ce1e-43f1-fdd9-dfe4aa6ae13d"
      },
      "execution_count": 180,
      "outputs": [
        {
          "output_type": "stream",
          "name": "stdout",
          "text": [
            "1     6247\n",
            "2     1345\n",
            "3      211\n",
            "5      113\n",
            "4       73\n",
            "0       55\n",
            "10      19\n",
            "8       14\n",
            "6       10\n",
            "7        5\n",
            "Name: bathrooms, dtype: int64\n"
          ]
        },
        {
          "output_type": "display_data",
          "data": {
            "text/plain": [
              "<Figure size 640x480 with 1 Axes>"
            ],
            "image/png": "[encoded data removed]"
          },
          "metadata": {}
        }
      ]
    },
    {
      "cell_type": "code",
      "source": [
        "rentals=rentals.drop(rentals[rentals.bathrooms == 7].index)\n",
        "rentals['bedrooms']=rentals['bedrooms'].astype(int)"
      ],
      "metadata": {
        "id": "5u_TipUY0cTR"
      },
      "execution_count": 181,
      "outputs": []
    },
    {
      "cell_type": "markdown",
      "source": [
        "##Minimum Nights\n"
      ],
      "metadata": {
        "id": "uuRSFYNR8i9Q"
      }
    },
    {
      "cell_type": "code",
      "source": [],
      "metadata": {
        "id": "W7tVeAwQ0g3a"
      },
      "execution_count": 181,
      "outputs": []
    },
    {
      "cell_type": "markdown",
      "source": [
        "##Price"
      ],
      "metadata": {
        "id": "gc71uUu_8pDg"
      }
    },
    {
      "cell_type": "code",
      "source": [
        "aux2=list(rentals.price.value_counts().index)\n"
      ],
      "metadata": {
        "id": "zgXlvWDK0rVK"
      },
      "execution_count": 182,
      "outputs": []
    },
    {
      "cell_type": "code",
      "source": [
        "drop_3=aux2[230:]\n",
        "for i in drop_3:\n",
        "    rentals=rentals.drop(rentals[rentals.price==i].index)\n",
        "\n",
        "rentals.info()"
      ],
      "metadata": {
        "colab": {
          "base_uri": "https://localhost:8080/"
        },
        "id": "4BpMbzmR0uWx",
        "outputId": "6d362c58-66ac-4849-ca0a-1c8feca4d25c"
      },
      "execution_count": 183,
      "outputs": [
        {
          "output_type": "stream",
          "name": "stdout",
          "text": [
            "<class 'pandas.core.frame.DataFrame'>\n",
            "Int64Index: 7434 entries, 0 to 8110\n",
            "Data columns (total 8 columns):\n",
            " #   Column          Non-Null Count  Dtype  \n",
            "---  ------          --------------  -----  \n",
            " 0   latitude        7434 non-null   float64\n",
            " 1   longitude       7434 non-null   float64\n",
            " 2   property_type   7434 non-null   object \n",
            " 3   room_type       7434 non-null   object \n",
            " 4   bathrooms       7434 non-null   float64\n",
            " 5   bedrooms        7434 non-null   int64  \n",
            " 6   minimum_nights  7434 non-null   float64\n",
            " 7   price           7434 non-null   float64\n",
            "dtypes: float64(5), int64(1), object(2)\n",
            "memory usage: 522.7+ KB\n"
          ]
        }
      ]
    },
    {
      "cell_type": "markdown",
      "source": [
        "#Modelo"
      ],
      "metadata": {
        "id": "JA8Pwbm88uCp"
      }
    },
    {
      "cell_type": "code",
      "source": [
        "\n",
        "rentals_dummies=pd.get_dummies(rentals)\n",
        "X=rentals_dummies.drop(columns=['price'])\n",
        "y=rentals_dummies.price\n",
        "\n"
      ],
      "metadata": {
        "id": "UIupVtEk07sx"
      },
      "execution_count": 184,
      "outputs": []
    },
    {
      "cell_type": "code",
      "source": [
        "\n",
        "X_train,X_test,y_train,y_test=train_test_split(X,y,test_size = 0.2, random_state = 1)\n",
        "scaler = StandardScaler()\n",
        "X_train = scaler.fit_transform(X_train)\n",
        "X_test=scaler.transform(X_test)\n",
        "\n"
      ],
      "metadata": {
        "id": "0CaV_Agh1YnR"
      },
      "execution_count": 185,
      "outputs": []
    },
    {
      "cell_type": "code",
      "source": [
        "pca = PCA(0.95)\n",
        "X_train = pca.fit_transform(X_train)\n",
        "X_test=pca.transform(X_test)"
      ],
      "metadata": {
        "id": "vFQvpcYk400B"
      },
      "execution_count": 186,
      "outputs": []
    },
    {
      "cell_type": "code",
      "source": [
        "from sklearn.ensemble import RandomForestRegressor\n",
        "\n",
        "\n",
        "model =RandomForestRegressor()\n",
        "\n",
        "model.fit(X_train, y_train)\n",
        "y_predict = model.predict(X_test)\n",
        "print(r2_score(y_test,y_predict)*100)"
      ],
      "metadata": {
        "colab": {
          "base_uri": "https://localhost:8080/"
        },
        "id": "eJKWOb3z1cWp",
        "outputId": "f12a8bde-4b49-46de-bbda-ff6c47667f3f"
      },
      "execution_count": 187,
      "outputs": [
        {
          "output_type": "stream",
          "name": "stdout",
          "text": [
            "67.5647155906062\n"
          ]
        }
      ]
    },
    {
      "cell_type": "code",
      "source": [
        "result={'y':y_test,'Predict':y_predict}\n",
        "result_df=pd.DataFrame(result)"
      ],
      "metadata": {
        "id": "HNsbET7O554y"
      },
      "execution_count": 188,
      "outputs": []
    },
    {
      "cell_type": "code",
      "source": [
        "\n",
        "print(result_df.head(30))"
      ],
      "metadata": {
        "colab": {
          "base_uri": "https://localhost:8080/"
        },
        "id": "gmcRanOj579B",
        "outputId": "d6ed216b-1da8-4fbd-94a5-3f17a2852a0e"
      },
      "execution_count": 189,
      "outputs": [
        {
          "output_type": "stream",
          "name": "stdout",
          "text": [
            "          y  Predict\n",
            "4271   82.0   112.54\n",
            "1649  350.0   282.39\n",
            "3205   75.0    91.88\n",
            "3131   40.0   184.14\n",
            "7140  180.0   210.34\n",
            "6403  217.0   273.83\n",
            "965   143.0   189.08\n",
            "3431  350.0   332.75\n",
            "7087   39.0    42.34\n",
            "6499  235.0   558.62\n",
            "7445  122.0   115.62\n",
            "3640  150.0   290.62\n",
            "1262  250.0   351.08\n",
            "4004   89.0    84.27\n",
            "4668   90.0    84.08\n",
            "7694  200.0   163.13\n",
            "5292   90.0    86.30\n",
            "3552   70.0    62.79\n",
            "462    70.0   103.44\n",
            "6759  310.0   447.46\n",
            "5458  600.0   265.04\n",
            "6962  240.0   167.12\n",
            "1460  250.0   160.56\n",
            "3087   80.0    81.16\n",
            "5705   79.0   138.13\n",
            "3372  149.0   130.96\n",
            "6400  196.0   215.79\n",
            "4997  110.0   136.29\n",
            "5663  155.0   183.75\n",
            "1210  150.0   160.10\n"
          ]
        }
      ]
    },
    {
      "cell_type": "markdown",
      "source": [
        "#Encontrando um modelo melhor"
      ],
      "metadata": {
        "id": "J6JtnfSj9wIm"
      }
    },
    {
      "cell_type": "code",
      "source": [
        "from sklearn.ensemble import RandomForestRegressor\n",
        "from sklearn.model_selection import GridSearchCV\n",
        "from sklearn.metrics import mean_squared_error, make_scorer\n",
        "\n",
        "param_grid=[{\"n_estimators\":[3,10,30], \"max_features\":[2,4,6,8], 'min_samples_split': [2, 5, 10],\n",
        "    'min_samples_leaf': [1, 2, 4]}]\n",
        "\n",
        "# Criar o modelo de RandomForestRegressor\n",
        "regressor = RandomForestRegressor()\n",
        "\n",
        "# Definir a métrica de avaliação\n",
        "scorer = make_scorer(mean_squared_error, greater_is_better=False)\n",
        "\n",
        "# Criar o objeto GridSearchCV\n",
        "grid_search = GridSearchCV(regressor, param_grid, scoring=scorer, cv=5)\n",
        "\n",
        "# Treinar o modelo usando GridSearchCV\n",
        "grid_search.fit(X_train, y_train)\n",
        "\n",
        "# Obter os melhores hiperparâmetros encontrados\n",
        "best_params = grid_search.best_params_\n",
        "\n",
        "# Treinar o modelo final com os melhores hiperparâmetros\n",
        "final_regressor = RandomForestRegressor(**best_params)\n",
        "final_regressor.fit(X_train, y_train)\n",
        "\n",
        "# Fazer previsões usando o modelo final\n",
        "y_pred = final_regressor.predict(X_test)\n",
        "print(r2_score(y_test,y_pred)*100)"
      ],
      "metadata": {
        "colab": {
          "base_uri": "https://localhost:8080/"
        },
        "id": "W_18kR-s5gfj",
        "outputId": "266bd3c0-ec14-4fba-ab36-1f308489ad22"
      },
      "execution_count": 190,
      "outputs": [
        {
          "output_type": "stream",
          "name": "stdout",
          "text": [
            "90.30535006199113\n"
          ]
        }
      ]
    },
    {
      "cell_type": "code",
      "source": [
        "print(final_regressor)"
      ],
      "metadata": {
        "colab": {
          "base_uri": "https://localhost:8080/"
        },
        "id": "yFQqzCIF8Nnv",
        "outputId": "621fb388-2c69-474f-9e6c-16f98d546915"
      },
      "execution_count": 191,
      "outputs": [
        {
          "output_type": "stream",
          "name": "stdout",
          "text": [
            "RandomForestRegressor(max_features=4, n_estimators=30)\n"
          ]
        }
      ]
    },
    {
      "cell_type": "code",
      "source": [
        "result={'y':y_test,'Predict':y_pred}\n",
        "result_df=pd.DataFrame(result)"
      ],
      "metadata": {
        "id": "mY3pFbgb7Gn9"
      },
      "execution_count": 192,
      "outputs": []
    },
    {
      "cell_type": "code",
      "source": [
        "print(result_df.head(30))\n"
      ],
      "metadata": {
        "colab": {
          "base_uri": "https://localhost:8080/"
        },
        "id": "GR30UgOM79VO",
        "outputId": "6e2e7970-c43a-422c-d3a7-c4be275383c8"
      },
      "execution_count": 193,
      "outputs": [
        {
          "output_type": "stream",
          "name": "stdout",
          "text": [
            "          y     Predict\n",
            "4271   82.0  128.633333\n",
            "1649  350.0  240.666667\n",
            "3205   75.0  104.333333\n",
            "3131   40.0  129.433333\n",
            "7140  180.0  259.800000\n",
            "6403  217.0  274.366667\n",
            "965   143.0  201.800000\n",
            "3431  350.0  346.666667\n",
            "7087   39.0   48.133333\n",
            "6499  235.0  530.733333\n",
            "7445  122.0  108.333333\n",
            "3640  150.0  273.166667\n",
            "1262  250.0  356.266667\n",
            "4004   89.0   83.300000\n",
            "4668   90.0   84.500000\n",
            "7694  200.0  193.366667\n",
            "5292   90.0   82.600000\n",
            "3552   70.0   64.866667\n",
            "462    70.0  117.766667\n",
            "6759  310.0  381.300000\n",
            "5458  600.0  240.500000\n",
            "6962  240.0  173.600000\n",
            "1460  250.0  180.366667\n",
            "3087   80.0   85.500000\n",
            "5705   79.0  136.766667\n",
            "3372  149.0  130.266667\n",
            "6400  196.0  215.833333\n",
            "4997  110.0  138.600000\n",
            "5663  155.0  181.766667\n",
            "1210  150.0  145.033333\n"
          ]
        }
      ]
    },
    {
      "cell_type": "markdown",
      "source": [
        "#EPC9"
      ],
      "metadata": {
        "id": "YQE9rOah95SP"
      }
    },
    {
      "cell_type": "code",
      "source": [
        "from sklearn.pipeline import Pipeline\n",
        "from sklearn.preprocessing import OneHotEncoder\n",
        "\n",
        "\n",
        "num_pipeline=Pipeline([(\"scaler\", StandardScaler()),\n",
        "                        (\"pca\", PCA())\n",
        "                       ])\n",
        "\n",
        "cat_pipeline=Pipeline([(\"encoder\", OneHotEncoder())\n",
        "                       ])\n",
        "\n"
      ],
      "metadata": {
        "id": "WGh-_5I698nG"
      },
      "execution_count": 194,
      "outputs": []
    },
    {
      "cell_type": "code",
      "source": [
        "rentals.info()"
      ],
      "metadata": {
        "colab": {
          "base_uri": "https://localhost:8080/"
        },
        "id": "JbEXIAyNDgUG",
        "outputId": "1f4efe9c-bbec-49f4-da17-717fd98804d7"
      },
      "execution_count": 195,
      "outputs": [
        {
          "output_type": "stream",
          "name": "stdout",
          "text": [
            "<class 'pandas.core.frame.DataFrame'>\n",
            "Int64Index: 7434 entries, 0 to 8110\n",
            "Data columns (total 8 columns):\n",
            " #   Column          Non-Null Count  Dtype  \n",
            "---  ------          --------------  -----  \n",
            " 0   latitude        7434 non-null   float64\n",
            " 1   longitude       7434 non-null   float64\n",
            " 2   property_type   7434 non-null   object \n",
            " 3   room_type       7434 non-null   object \n",
            " 4   bathrooms       7434 non-null   float64\n",
            " 5   bedrooms        7434 non-null   int64  \n",
            " 6   minimum_nights  7434 non-null   float64\n",
            " 7   price           7434 non-null   float64\n",
            "dtypes: float64(5), int64(1), object(2)\n",
            "memory usage: 522.7+ KB\n"
          ]
        }
      ]
    },
    {
      "cell_type": "code",
      "source": [
        "X_num=rentals.drop(columns=['price', \"property_type\",\"room_type\"])\n",
        "X_cat=rentals[[\"property_type\",\"room_type\"]]\n",
        "y_final=rentals.price\n",
        "print(X_num.columns)\n",
        "print(X_cat.columns)"
      ],
      "metadata": {
        "colab": {
          "base_uri": "https://localhost:8080/"
        },
        "id": "pNsl-oiuDiKe",
        "outputId": "13e520d2-f787-4a6c-fc52-3f8fc29cd074"
      },
      "execution_count": 196,
      "outputs": [
        {
          "output_type": "stream",
          "name": "stdout",
          "text": [
            "Index(['latitude', 'longitude', 'bathrooms', 'bedrooms', 'minimum_nights'], dtype='object')\n",
            "Index(['property_type', 'room_type'], dtype='object')\n"
          ]
        }
      ]
    },
    {
      "cell_type": "code",
      "source": [
        "from sklearn.compose import ColumnTransformer\n",
        "\n",
        "pipeline=ColumnTransformer([(\"num_pipeline\",num_pipeline,list(X_num.columns)),\n",
        "                           (\"cat_pipeline\", cat_pipeline,list(X_cat.columns))])\n",
        "rentals_prepared=pipeline.fit_transform(rentals)\n",
        "print(rentals_prepared)"
      ],
      "metadata": {
        "colab": {
          "base_uri": "https://localhost:8080/"
        },
        "id": "r3Gb12E9Ab-b",
        "outputId": "21321244-b9a4-4971-9ceb-129e1ea1bb5b"
      },
      "execution_count": 197,
      "outputs": [
        {
          "output_type": "stream",
          "name": "stdout",
          "text": [
            "  (0, 0)\t-0.29232372237099147\n",
            "  (0, 1)\t-0.9048500009602105\n",
            "  (0, 2)\t-0.8475329825203883\n",
            "  (0, 3)\t-0.49661018131388324\n",
            "  (0, 4)\t-0.3557390239953838\n",
            "  (0, 6)\t1.0\n",
            "  (0, 30)\t1.0\n",
            "  (1, 0)\t-1.1537897580146672\n",
            "  (1, 1)\t-1.149370832788107\n",
            "  (1, 2)\t-0.3341032779064676\n",
            "  (1, 3)\t-0.6817246689929941\n",
            "  (1, 4)\t0.008206432889962402\n",
            "  (1, 20)\t1.0\n",
            "  (1, 32)\t1.0\n",
            "  (2, 0)\t-0.25334319018070217\n",
            "  (2, 1)\t0.38251405902831015\n",
            "  (2, 2)\t0.9043534813584807\n",
            "  (2, 3)\t1.3391256732598629\n",
            "  (2, 4)\t-0.16857560737183863\n",
            "  (2, 6)\t1.0\n",
            "  (2, 30)\t1.0\n",
            "  (3, 0)\t-0.18785960732501175\n",
            "  (3, 1)\t2.22819259131813\n",
            "  (3, 2)\t0.20069304632828053\n",
            "  (3, 3)\t-1.0468252735278634\n",
            "  :\t:\n",
            "  (7430, 3)\t-0.4273843839690834\n",
            "  (7430, 4)\t-0.5591512570644638\n",
            "  (7430, 12)\t1.0\n",
            "  (7430, 30)\t1.0\n",
            "  (7431, 0)\t0.4863068225265578\n",
            "  (7431, 1)\t0.5238462292758745\n",
            "  (7431, 2)\t-0.10281073312810061\n",
            "  (7431, 3)\t1.853812759105712\n",
            "  (7431, 4)\t1.3734994010932893\n",
            "  (7431, 21)\t1.0\n",
            "  (7431, 32)\t1.0\n",
            "  (7432, 0)\t1.3694867632753311\n",
            "  (7432, 1)\t0.14307898416953635\n",
            "  (7432, 2)\t0.516508833560167\n",
            "  (7432, 3)\t0.27306605589511984\n",
            "  (7432, 4)\t-0.17043323397829097\n",
            "  (7432, 6)\t1.0\n",
            "  (7432, 30)\t1.0\n",
            "  (7433, 0)\t-2.6743914537823272\n",
            "  (7433, 1)\t-0.9523749225250607\n",
            "  (7433, 2)\t-0.25405020990059124\n",
            "  (7433, 3)\t1.1307417439197072\n",
            "  (7433, 4)\t0.18486189151343593\n",
            "  (7433, 20)\t1.0\n",
            "  (7433, 32)\t1.0\n"
          ]
        }
      ]
    },
    {
      "cell_type": "code",
      "source": [
        "x_TRAIN,x_TEST,y_TRAIN,y_TEST=train_test_split(rentals_prepared,rentals.price,test_size = 0.2, random_state = 1)\n"
      ],
      "metadata": {
        "id": "A4W3VuEEEAQF"
      },
      "execution_count": 198,
      "outputs": []
    },
    {
      "cell_type": "code",
      "source": [
        "regressor=final_regressor\n",
        "\n",
        "regressor.fit(x_TRAIN, y_TRAIN)\n",
        "\n",
        "# Fazer previsões usando o modelo final\n",
        "y_pred = regressor.predict(x_TEST)\n",
        "print(r2_score(y_TEST,y_pred)*100)"
      ],
      "metadata": {
        "colab": {
          "base_uri": "https://localhost:8080/"
        },
        "id": "yTfOc_-mCZsu",
        "outputId": "a84eaacb-2d94-4186-a3e1-a716888c54a9"
      },
      "execution_count": 199,
      "outputs": [
        {
          "output_type": "stream",
          "name": "stdout",
          "text": [
            "87.7485471522138\n"
          ]
        }
      ]
    },
    {
      "cell_type": "code",
      "source": [
        "result_final={'y':y_TEST,'Predict':y_pred}\n",
        "result_df_final=pd.DataFrame(result_final)"
      ],
      "metadata": {
        "id": "PBWSuqo4FWFJ"
      },
      "execution_count": 200,
      "outputs": []
    },
    {
      "cell_type": "code",
      "source": [
        "result_df_final.head(20)"
      ],
      "metadata": {
        "colab": {
          "base_uri": "https://localhost:8080/",
          "height": 676
        },
        "id": "Bl8WXaABGDAT",
        "outputId": "673d52db-6ffa-4ea6-95e7-137103e1299d"
      },
      "execution_count": 201,
      "outputs": [
        {
          "output_type": "execute_result",
          "data": {
            "text/plain": [
              "          y     Predict\n",
              "4271   82.0   71.600000\n",
              "1649  350.0  272.166667\n",
              "3205   75.0   99.666667\n",
              "3131   40.0  141.566667\n",
              "7140  180.0  203.000000\n",
              "6403  217.0  279.633333\n",
              "965   143.0  155.466667\n",
              "3431  350.0  635.766667\n",
              "7087   39.0   45.733333\n",
              "6499  235.0  283.933333\n",
              "7445  122.0  115.433333\n",
              "3640  150.0  305.200000\n",
              "1262  250.0  325.700000\n",
              "4004   89.0   94.600000\n",
              "4668   90.0   86.833333\n",
              "7694  200.0  203.633333\n",
              "5292   90.0   84.966667\n",
              "3552   70.0   67.333333\n",
              "462    70.0   98.366667\n",
              "6759  310.0  399.266667"
            ],
            "text/html": [
              "\n",
              "  <div id=\"df-87f25351-f6eb-4de7-a24f-ee2e7edaf375\">\n",
              "    <div class=\"colab-df-container\">\n",
              "      <div>\n",
              "<style scoped>\n",
              "    .dataframe tbody tr th:only-of-type {\n",
              "        vertical-align: middle;\n",
              "    }\n",
              "\n",
              "    .dataframe tbody tr th {\n",
              "        vertical-align: top;\n",
              "    }\n",
              "\n",
              "    .dataframe thead th {\n",
              "        text-align: right;\n",
              "    }\n",
              "</style>\n",
              "<table border=\"1\" class=\"dataframe\">\n",
              "  <thead>\n",
              "    <tr style=\"text-align: right;\">\n",
              "      <th></th>\n",
              "      <th>y</th>\n",
              "      <th>Predict</th>\n",
              "    </tr>\n",
              "  </thead>\n",
              "  <tbody>\n",
              "    <tr>\n",
              "      <th>4271</th>\n",
              "      <td>82.0</td>\n",
              "      <td>71.600000</td>\n",
              "    </tr>\n",
              "    <tr>\n",
              "      <th>1649</th>\n",
              "      <td>350.0</td>\n",
              "      <td>272.166667</td>\n",
              "    </tr>\n",
              "    <tr>\n",
              "      <th>3205</th>\n",
              "      <td>75.0</td>\n",
              "      <td>99.666667</td>\n",
              "    </tr>\n",
              "    <tr>\n",
              "      <th>3131</th>\n",
              "      <td>40.0</td>\n",
              "      <td>141.566667</td>\n",
              "    </tr>\n",
              "    <tr>\n",
              "      <th>7140</th>\n",
              "      <td>180.0</td>\n",
              "      <td>203.000000</td>\n",
              "    </tr>\n",
              "    <tr>\n",
              "      <th>6403</th>\n",
              "      <td>217.0</td>\n",
              "      <td>279.633333</td>\n",
              "    </tr>\n",
              "    <tr>\n",
              "      <th>965</th>\n",
              "      <td>143.0</td>\n",
              "      <td>155.466667</td>\n",
              "    </tr>\n",
              "    <tr>\n",
              "      <th>3431</th>\n",
              "      <td>350.0</td>\n",
              "      <td>635.766667</td>\n",
              "    </tr>\n",
              "    <tr>\n",
              "      <th>7087</th>\n",
              "      <td>39.0</td>\n",
              "      <td>45.733333</td>\n",
              "    </tr>\n",
              "    <tr>\n",
              "      <th>6499</th>\n",
              "      <td>235.0</td>\n",
              "      <td>283.933333</td>\n",
              "    </tr>\n",
              "    <tr>\n",
              "      <th>7445</th>\n",
              "      <td>122.0</td>\n",
              "      <td>115.433333</td>\n",
              "    </tr>\n",
              "    <tr>\n",
              "      <th>3640</th>\n",
              "      <td>150.0</td>\n",
              "      <td>305.200000</td>\n",
              "    </tr>\n",
              "    <tr>\n",
              "      <th>1262</th>\n",
              "      <td>250.0</td>\n",
              "      <td>325.700000</td>\n",
              "    </tr>\n",
              "    <tr>\n",
              "      <th>4004</th>\n",
              "      <td>89.0</td>\n",
              "      <td>94.600000</td>\n",
              "    </tr>\n",
              "    <tr>\n",
              "      <th>4668</th>\n",
              "      <td>90.0</td>\n",
              "      <td>86.833333</td>\n",
              "    </tr>\n",
              "    <tr>\n",
              "      <th>7694</th>\n",
              "      <td>200.0</td>\n",
              "      <td>203.633333</td>\n",
              "    </tr>\n",
              "    <tr>\n",
              "      <th>5292</th>\n",
              "      <td>90.0</td>\n",
              "      <td>84.966667</td>\n",
              "    </tr>\n",
              "    <tr>\n",
              "      <th>3552</th>\n",
              "      <td>70.0</td>\n",
              "      <td>67.333333</td>\n",
              "    </tr>\n",
              "    <tr>\n",
              "      <th>462</th>\n",
              "      <td>70.0</td>\n",
              "      <td>98.366667</td>\n",
              "    </tr>\n",
              "    <tr>\n",
              "      <th>6759</th>\n",
              "      <td>310.0</td>\n",
              "      <td>399.266667</td>\n",
              "    </tr>\n",
              "  </tbody>\n",
              "</table>\n",
              "</div>\n",
              "      <button class=\"colab-df-convert\" onclick=\"convertToInteractive('df-87f25351-f6eb-4de7-a24f-ee2e7edaf375')\"\n",
              "              title=\"Convert this dataframe to an interactive table.\"\n",
              "              style=\"display:none;\">\n",
              "        \n",
              "  <svg xmlns=\"http://www.w3.org/2000/svg\" height=\"24px\"viewBox=\"0 0 24 24\"\n",
              "       width=\"24px\">\n",
              "    <path d=\"M0 0h24v24H0V0z\" fill=\"none\"/>\n",
              "    <path d=\"M18.56 5.44l.94 2.06.94-2.06 2.06-.94-2.06-.94-.94-2.06-.94 2.06-2.06.94zm-11 1L8.5 8.5l.94-2.06 2.06-.94-2.06-.94L8.5 2.5l-.94 2.06-2.06.94zm10 10l.94 2.06.94-2.06 2.06-.94-2.06-.94-.94-2.06-.94 2.06-2.06.94z\"/><path d=\"M17.41 7.96l-1.37-1.37c-.4-.4-.92-.59-1.43-.59-.52 0-1.04.2-1.43.59L10.3 9.45l-7.72 7.72c-.78.78-.78 2.05 0 2.83L4 21.41c.39.39.9.59 1.41.59.51 0 1.02-.2 1.41-.59l7.78-7.78 2.81-2.81c.8-.78.8-2.07 0-2.86zM5.41 20L4 18.59l7.72-7.72 1.47 1.35L5.41 20z\"/>\n",
              "  </svg>\n",
              "      </button>\n",
              "      \n",
              "  <style>\n",
              "    .colab-df-container {\n",
              "      display:flex;\n",
              "      flex-wrap:wrap;\n",
              "      gap: 12px;\n",
              "    }\n",
              "\n",
              "    .colab-df-convert {\n",
              "      background-color: #E8F0FE;\n",
              "      border: none;\n",
              "      border-radius: 50%;\n",
              "      cursor: pointer;\n",
              "      display: none;\n",
              "      fill: #1967D2;\n",
              "      height: 32px;\n",
              "      padding: 0 0 0 0;\n",
              "      width: 32px;\n",
              "    }\n",
              "\n",
              "    .colab-df-convert:hover {\n",
              "      background-color: #E2EBFA;\n",
              "      box-shadow: 0px 1px 2px rgba(60, 64, 67, 0.3), 0px 1px 3px 1px rgba(60, 64, 67, 0.15);\n",
              "      fill: #174EA6;\n",
              "    }\n",
              "\n",
              "    [theme=dark] .colab-df-convert {\n",
              "      background-color: #3B4455;\n",
              "      fill: #D2E3FC;\n",
              "    }\n",
              "\n",
              "    [theme=dark] .colab-df-convert:hover {\n",
              "      background-color: #434B5C;\n",
              "      box-shadow: 0px 1px 3px 1px rgba(0, 0, 0, 0.15);\n",
              "      filter: drop-shadow(0px 1px 2px rgba(0, 0, 0, 0.3));\n",
              "      fill: #FFFFFF;\n",
              "    }\n",
              "  </style>\n",
              "\n",
              "      <script>\n",
              "        const buttonEl =\n",
              "          document.querySelector('#df-87f25351-f6eb-4de7-a24f-ee2e7edaf375 button.colab-df-convert');\n",
              "        buttonEl.style.display =\n",
              "          google.colab.kernel.accessAllowed ? 'block' : 'none';\n",
              "\n",
              "        async function convertToInteractive(key) {\n",
              "          const element = document.querySelector('#df-87f25351-f6eb-4de7-a24f-ee2e7edaf375');\n",
              "          const dataTable =\n",
              "            await google.colab.kernel.invokeFunction('convertToInteractive',\n",
              "                                                     [key], {});\n",
              "          if (!dataTable) return;\n",
              "\n",
              "          const docLinkHtml = 'Like what you see? Visit the ' +\n",
              "            '<a target=\"_blank\" href=https://colab.research.google.com/notebooks/data_table.ipynb>data table notebook</a>'\n",
              "            + ' to learn more about interactive tables.';\n",
              "          element.innerHTML = '';\n",
              "          dataTable['output_type'] = 'display_data';\n",
              "          await google.colab.output.renderOutput(dataTable, element);\n",
              "          const docLink = document.createElement('div');\n",
              "          docLink.innerHTML = docLinkHtml;\n",
              "          element.appendChild(docLink);\n",
              "        }\n",
              "      </script>\n",
              "    </div>\n",
              "  </div>\n",
              "  "
            ]
          },
          "metadata": {},
          "execution_count": 201
        }
      ]
    },
    {
      "cell_type": "code",
      "source": [],
      "metadata": {
        "id": "wnAVzTmxGDut"
      },
      "execution_count": 201,
      "outputs": []
    }
  ]
}